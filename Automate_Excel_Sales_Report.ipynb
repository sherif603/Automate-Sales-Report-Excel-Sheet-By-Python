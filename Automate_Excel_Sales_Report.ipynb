{
 "cells": [
  {
   "cell_type": "code",
   "execution_count": 1,
   "metadata": {},
   "outputs": [],
   "source": [
    "# Automate Sales Report in Microsoft Excel By Python"
   ]
  },
  {
   "cell_type": "code",
   "execution_count": 2,
   "metadata": {},
   "outputs": [],
   "source": [
    "# Import Python Packages"
   ]
  },
  {
   "cell_type": "code",
   "execution_count": 3,
   "metadata": {},
   "outputs": [],
   "source": [
    "import pandas as pd\n",
    "import numpy as np\n",
    "import matplotlib.pyplot as plt\n",
    "%matplotlib inline"
   ]
  },
  {
   "cell_type": "code",
   "execution_count": 4,
   "metadata": {},
   "outputs": [],
   "source": [
    "df = pd.read_excel(\"Sales_Report.xlsx\")"
   ]
  },
  {
   "cell_type": "code",
   "execution_count": 5,
   "metadata": {},
   "outputs": [
    {
     "name": "stdout",
     "output_type": "stream",
     "text": [
      "                      Country       Date  Units Sold  Manufacturing Price  \\\n",
      "0                      Canada 2014-01-01      1618.5                    3   \n",
      "1                     Germany 2014-01-01      1321.0                    3   \n",
      "2                      France 2014-06-01      2178.0                    3   \n",
      "3                     Germany 2014-06-01       888.0                    3   \n",
      "4                      Mexico 2014-06-01      2470.0                    3   \n",
      "..                        ...        ...         ...                  ...   \n",
      "695                    France 2014-03-01      2475.0                  260   \n",
      "696                    Mexico 2014-10-01       546.0                  260   \n",
      "697                    Mexico 2014-02-01      1368.0                    5   \n",
      "698                    Canada 2014-04-01       723.0                   10   \n",
      "699  United States of America 2014-05-01      1806.0                  250   \n",
      "\n",
      "     Sale Price  Gross Sales  Discounts      Sales      COGS  \n",
      "0            20      32370.0       0.00   32370.00   16185.0  \n",
      "1            20      26420.0       0.00   26420.00   13210.0  \n",
      "2            15      32670.0       0.00   32670.00   21780.0  \n",
      "3            15      13320.0       0.00   13320.00    8880.0  \n",
      "4            15      37050.0       0.00   37050.00   24700.0  \n",
      "..          ...          ...        ...        ...       ...  \n",
      "695         300     742500.0  111375.00  631125.00  618750.0  \n",
      "696         300     163800.0   24570.00  139230.00  136500.0  \n",
      "697           7       9576.0    1436.40    8139.60    6840.0  \n",
      "698           7       5061.0     759.15    4301.85    3615.0  \n",
      "699          12      21672.0    3250.80   18421.20    5418.0  \n",
      "\n",
      "[700 rows x 9 columns]\n"
     ]
    }
   ],
   "source": [
    "print(df)"
   ]
  },
  {
   "cell_type": "code",
   "execution_count": 6,
   "metadata": {},
   "outputs": [
    {
     "data": {
      "text/plain": [
       "<bound method DataFrame.info of                       Country       Date  Units Sold  Manufacturing Price  \\\n",
       "0                      Canada 2014-01-01      1618.5                    3   \n",
       "1                     Germany 2014-01-01      1321.0                    3   \n",
       "2                      France 2014-06-01      2178.0                    3   \n",
       "3                     Germany 2014-06-01       888.0                    3   \n",
       "4                      Mexico 2014-06-01      2470.0                    3   \n",
       "..                        ...        ...         ...                  ...   \n",
       "695                    France 2014-03-01      2475.0                  260   \n",
       "696                    Mexico 2014-10-01       546.0                  260   \n",
       "697                    Mexico 2014-02-01      1368.0                    5   \n",
       "698                    Canada 2014-04-01       723.0                   10   \n",
       "699  United States of America 2014-05-01      1806.0                  250   \n",
       "\n",
       "     Sale Price  Gross Sales  Discounts      Sales      COGS  \n",
       "0            20      32370.0       0.00   32370.00   16185.0  \n",
       "1            20      26420.0       0.00   26420.00   13210.0  \n",
       "2            15      32670.0       0.00   32670.00   21780.0  \n",
       "3            15      13320.0       0.00   13320.00    8880.0  \n",
       "4            15      37050.0       0.00   37050.00   24700.0  \n",
       "..          ...          ...        ...        ...       ...  \n",
       "695         300     742500.0  111375.00  631125.00  618750.0  \n",
       "696         300     163800.0   24570.00  139230.00  136500.0  \n",
       "697           7       9576.0    1436.40    8139.60    6840.0  \n",
       "698           7       5061.0     759.15    4301.85    3615.0  \n",
       "699          12      21672.0    3250.80   18421.20    5418.0  \n",
       "\n",
       "[700 rows x 9 columns]>"
      ]
     },
     "execution_count": 6,
     "metadata": {},
     "output_type": "execute_result"
    }
   ],
   "source": [
    "# Use Pandas.DataFrame.info to print a concise summary of a DataFrame\n",
    "df.info"
   ]
  },
  {
   "cell_type": "code",
   "execution_count": 7,
   "metadata": {},
   "outputs": [
    {
     "data": {
      "text/html": [
       "<div>\n",
       "<style scoped>\n",
       "    .dataframe tbody tr th:only-of-type {\n",
       "        vertical-align: middle;\n",
       "    }\n",
       "\n",
       "    .dataframe tbody tr th {\n",
       "        vertical-align: top;\n",
       "    }\n",
       "\n",
       "    .dataframe thead th {\n",
       "        text-align: right;\n",
       "    }\n",
       "</style>\n",
       "<table border=\"1\" class=\"dataframe\">\n",
       "  <thead>\n",
       "    <tr style=\"text-align: right;\">\n",
       "      <th></th>\n",
       "      <th>Country</th>\n",
       "      <th>Date</th>\n",
       "      <th>Units Sold</th>\n",
       "      <th>Manufacturing Price</th>\n",
       "      <th>Sale Price</th>\n",
       "      <th>Gross Sales</th>\n",
       "      <th>Discounts</th>\n",
       "      <th>Sales</th>\n",
       "      <th>COGS</th>\n",
       "    </tr>\n",
       "  </thead>\n",
       "  <tbody>\n",
       "    <tr>\n",
       "      <th>0</th>\n",
       "      <td>Canada</td>\n",
       "      <td>2014-01-01</td>\n",
       "      <td>1618.5</td>\n",
       "      <td>3</td>\n",
       "      <td>20</td>\n",
       "      <td>32370.0</td>\n",
       "      <td>0.0</td>\n",
       "      <td>32370.0</td>\n",
       "      <td>16185.0</td>\n",
       "    </tr>\n",
       "    <tr>\n",
       "      <th>1</th>\n",
       "      <td>Germany</td>\n",
       "      <td>2014-01-01</td>\n",
       "      <td>1321.0</td>\n",
       "      <td>3</td>\n",
       "      <td>20</td>\n",
       "      <td>26420.0</td>\n",
       "      <td>0.0</td>\n",
       "      <td>26420.0</td>\n",
       "      <td>13210.0</td>\n",
       "    </tr>\n",
       "    <tr>\n",
       "      <th>2</th>\n",
       "      <td>France</td>\n",
       "      <td>2014-06-01</td>\n",
       "      <td>2178.0</td>\n",
       "      <td>3</td>\n",
       "      <td>15</td>\n",
       "      <td>32670.0</td>\n",
       "      <td>0.0</td>\n",
       "      <td>32670.0</td>\n",
       "      <td>21780.0</td>\n",
       "    </tr>\n",
       "    <tr>\n",
       "      <th>3</th>\n",
       "      <td>Germany</td>\n",
       "      <td>2014-06-01</td>\n",
       "      <td>888.0</td>\n",
       "      <td>3</td>\n",
       "      <td>15</td>\n",
       "      <td>13320.0</td>\n",
       "      <td>0.0</td>\n",
       "      <td>13320.0</td>\n",
       "      <td>8880.0</td>\n",
       "    </tr>\n",
       "    <tr>\n",
       "      <th>4</th>\n",
       "      <td>Mexico</td>\n",
       "      <td>2014-06-01</td>\n",
       "      <td>2470.0</td>\n",
       "      <td>3</td>\n",
       "      <td>15</td>\n",
       "      <td>37050.0</td>\n",
       "      <td>0.0</td>\n",
       "      <td>37050.0</td>\n",
       "      <td>24700.0</td>\n",
       "    </tr>\n",
       "  </tbody>\n",
       "</table>\n",
       "</div>"
      ],
      "text/plain": [
       "   Country       Date  Units Sold  Manufacturing Price  Sale Price  \\\n",
       "0   Canada 2014-01-01      1618.5                    3          20   \n",
       "1  Germany 2014-01-01      1321.0                    3          20   \n",
       "2   France 2014-06-01      2178.0                    3          15   \n",
       "3  Germany 2014-06-01       888.0                    3          15   \n",
       "4   Mexico 2014-06-01      2470.0                    3          15   \n",
       "\n",
       "   Gross Sales  Discounts    Sales     COGS  \n",
       "0      32370.0        0.0  32370.0  16185.0  \n",
       "1      26420.0        0.0  26420.0  13210.0  \n",
       "2      32670.0        0.0  32670.0  21780.0  \n",
       "3      13320.0        0.0  13320.0   8880.0  \n",
       "4      37050.0        0.0  37050.0  24700.0  "
      ]
     },
     "execution_count": 7,
     "metadata": {},
     "output_type": "execute_result"
    }
   ],
   "source": [
    "# Use Pandas.DataFrame.head() to return the first five rows\n",
    "df.head()"
   ]
  },
  {
   "cell_type": "code",
   "execution_count": 8,
   "metadata": {},
   "outputs": [
    {
     "data": {
      "text/html": [
       "<div>\n",
       "<style scoped>\n",
       "    .dataframe tbody tr th:only-of-type {\n",
       "        vertical-align: middle;\n",
       "    }\n",
       "\n",
       "    .dataframe tbody tr th {\n",
       "        vertical-align: top;\n",
       "    }\n",
       "\n",
       "    .dataframe thead th {\n",
       "        text-align: right;\n",
       "    }\n",
       "</style>\n",
       "<table border=\"1\" class=\"dataframe\">\n",
       "  <thead>\n",
       "    <tr style=\"text-align: right;\">\n",
       "      <th></th>\n",
       "      <th>Country</th>\n",
       "      <th>Date</th>\n",
       "      <th>Units Sold</th>\n",
       "      <th>Manufacturing Price</th>\n",
       "      <th>Sale Price</th>\n",
       "      <th>Gross Sales</th>\n",
       "      <th>Discounts</th>\n",
       "      <th>Sales</th>\n",
       "      <th>COGS</th>\n",
       "    </tr>\n",
       "  </thead>\n",
       "  <tbody>\n",
       "    <tr>\n",
       "      <th>695</th>\n",
       "      <td>France</td>\n",
       "      <td>2014-03-01</td>\n",
       "      <td>2475.0</td>\n",
       "      <td>260</td>\n",
       "      <td>300</td>\n",
       "      <td>742500.0</td>\n",
       "      <td>111375.00</td>\n",
       "      <td>631125.00</td>\n",
       "      <td>618750.0</td>\n",
       "    </tr>\n",
       "    <tr>\n",
       "      <th>696</th>\n",
       "      <td>Mexico</td>\n",
       "      <td>2014-10-01</td>\n",
       "      <td>546.0</td>\n",
       "      <td>260</td>\n",
       "      <td>300</td>\n",
       "      <td>163800.0</td>\n",
       "      <td>24570.00</td>\n",
       "      <td>139230.00</td>\n",
       "      <td>136500.0</td>\n",
       "    </tr>\n",
       "    <tr>\n",
       "      <th>697</th>\n",
       "      <td>Mexico</td>\n",
       "      <td>2014-02-01</td>\n",
       "      <td>1368.0</td>\n",
       "      <td>5</td>\n",
       "      <td>7</td>\n",
       "      <td>9576.0</td>\n",
       "      <td>1436.40</td>\n",
       "      <td>8139.60</td>\n",
       "      <td>6840.0</td>\n",
       "    </tr>\n",
       "    <tr>\n",
       "      <th>698</th>\n",
       "      <td>Canada</td>\n",
       "      <td>2014-04-01</td>\n",
       "      <td>723.0</td>\n",
       "      <td>10</td>\n",
       "      <td>7</td>\n",
       "      <td>5061.0</td>\n",
       "      <td>759.15</td>\n",
       "      <td>4301.85</td>\n",
       "      <td>3615.0</td>\n",
       "    </tr>\n",
       "    <tr>\n",
       "      <th>699</th>\n",
       "      <td>United States of America</td>\n",
       "      <td>2014-05-01</td>\n",
       "      <td>1806.0</td>\n",
       "      <td>250</td>\n",
       "      <td>12</td>\n",
       "      <td>21672.0</td>\n",
       "      <td>3250.80</td>\n",
       "      <td>18421.20</td>\n",
       "      <td>5418.0</td>\n",
       "    </tr>\n",
       "  </tbody>\n",
       "</table>\n",
       "</div>"
      ],
      "text/plain": [
       "                      Country       Date  Units Sold  Manufacturing Price  \\\n",
       "695                    France 2014-03-01      2475.0                  260   \n",
       "696                    Mexico 2014-10-01       546.0                  260   \n",
       "697                    Mexico 2014-02-01      1368.0                    5   \n",
       "698                    Canada 2014-04-01       723.0                   10   \n",
       "699  United States of America 2014-05-01      1806.0                  250   \n",
       "\n",
       "     Sale Price  Gross Sales  Discounts      Sales      COGS  \n",
       "695         300     742500.0  111375.00  631125.00  618750.0  \n",
       "696         300     163800.0   24570.00  139230.00  136500.0  \n",
       "697           7       9576.0    1436.40    8139.60    6840.0  \n",
       "698           7       5061.0     759.15    4301.85    3615.0  \n",
       "699          12      21672.0    3250.80   18421.20    5418.0  "
      ]
     },
     "execution_count": 8,
     "metadata": {},
     "output_type": "execute_result"
    }
   ],
   "source": [
    "# Use Pandas.DataFrame.tail() to return the last five rows\n",
    "df.tail()"
   ]
  },
  {
   "cell_type": "code",
   "execution_count": 9,
   "metadata": {},
   "outputs": [
    {
     "data": {
      "text/plain": [
       "Country                             Canada\n",
       "Date                   2014-01-01 00:00:00\n",
       "Units Sold                          1618.5\n",
       "Manufacturing Price                      3\n",
       "Sale Price                              20\n",
       "Gross Sales                          32370\n",
       "Discounts                                0\n",
       " Sales                               32370\n",
       "COGS                                 16185\n",
       "Name: 0, dtype: object"
      ]
     },
     "execution_count": 9,
     "metadata": {},
     "output_type": "execute_result"
    }
   ],
   "source": [
    "# Use Pandas.DataFrame.iloc[] for integer position based from 0 to length -1 of the axis\n",
    "# I select the first row of the data frame\n",
    "df.iloc[0]"
   ]
  },
  {
   "cell_type": "code",
   "execution_count": 10,
   "metadata": {},
   "outputs": [
    {
     "data": {
      "text/plain": [
       "(700, 9)"
      ]
     },
     "execution_count": 10,
     "metadata": {},
     "output_type": "execute_result"
    }
   ],
   "source": [
    "# Use Pandas.DataFrame.shape to return the dimensionality of the data frame\n",
    "df.shape"
   ]
  },
  {
   "cell_type": "code",
   "execution_count": 11,
   "metadata": {},
   "outputs": [
    {
     "data": {
      "text/plain": [
       "2"
      ]
     },
     "execution_count": 11,
     "metadata": {},
     "output_type": "execute_result"
    }
   ],
   "source": [
    "# Use Pandas.DataFrame.ndim to return an int representing the number of axes /array dimensions\n",
    "df.ndim"
   ]
  },
  {
   "cell_type": "code",
   "execution_count": 12,
   "metadata": {},
   "outputs": [
    {
     "data": {
      "text/plain": [
       "6300"
      ]
     },
     "execution_count": 12,
     "metadata": {},
     "output_type": "execute_result"
    }
   ],
   "source": [
    "# Use Pandas.DataFrame.size to return an int representing the number of elements in this object.\n",
    "df.size"
   ]
  },
  {
   "cell_type": "code",
   "execution_count": 13,
   "metadata": {},
   "outputs": [
    {
     "data": {
      "text/plain": [
       "RangeIndex(start=0, stop=700, step=1)"
      ]
     },
     "execution_count": 13,
     "metadata": {},
     "output_type": "execute_result"
    }
   ],
   "source": [
    "# Use Pandas.DataFrame.index to view the index (row labels) of the DataFrame\n",
    "df.index"
   ]
  },
  {
   "cell_type": "code",
   "execution_count": 14,
   "metadata": {},
   "outputs": [
    {
     "data": {
      "text/plain": [
       "Index(['Country', 'Date', 'Units Sold', 'Manufacturing Price', 'Sale Price',\n",
       "       'Gross Sales', 'Discounts', ' Sales', 'COGS'],\n",
       "      dtype='object')"
      ]
     },
     "execution_count": 14,
     "metadata": {},
     "output_type": "execute_result"
    }
   ],
   "source": [
    "# Use Pandas.DataFrame.columns to view the column labels of the DataFrame\n",
    "df.columns"
   ]
  },
  {
   "cell_type": "code",
   "execution_count": 15,
   "metadata": {},
   "outputs": [
    {
     "data": {
      "text/plain": [
       "['Country',\n",
       " 'Date',\n",
       " 'Units Sold',\n",
       " 'Manufacturing Price',\n",
       " 'Sale Price',\n",
       " 'Gross Sales',\n",
       " 'Discounts',\n",
       " ' Sales',\n",
       " 'COGS']"
      ]
     },
     "execution_count": 15,
     "metadata": {},
     "output_type": "execute_result"
    }
   ],
   "source": [
    "# Use the Python list() method to viewing the column names in Pandas DataFrame\n",
    "list(df)"
   ]
  },
  {
   "cell_type": "code",
   "execution_count": 16,
   "metadata": {},
   "outputs": [
    {
     "data": {
      "text/plain": [
       "Country                        object\n",
       "Date                   datetime64[ns]\n",
       "Units Sold                    float64\n",
       "Manufacturing Price             int64\n",
       "Sale Price                      int64\n",
       "Gross Sales                   float64\n",
       "Discounts                     float64\n",
       " Sales                        float64\n",
       "COGS                          float64\n",
       "dtype: object"
      ]
     },
     "execution_count": 16,
     "metadata": {},
     "output_type": "execute_result"
    }
   ],
   "source": [
    "# Use Pandas.DataFrame.dtypes to return the data types of each column in the DataFrame\n",
    "df.dtypes"
   ]
  },
  {
   "cell_type": "code",
   "execution_count": 17,
   "metadata": {},
   "outputs": [
    {
     "data": {
      "text/html": [
       "<div>\n",
       "<style scoped>\n",
       "    .dataframe tbody tr th:only-of-type {\n",
       "        vertical-align: middle;\n",
       "    }\n",
       "\n",
       "    .dataframe tbody tr th {\n",
       "        vertical-align: top;\n",
       "    }\n",
       "\n",
       "    .dataframe thead th {\n",
       "        text-align: right;\n",
       "    }\n",
       "</style>\n",
       "<table border=\"1\" class=\"dataframe\">\n",
       "  <thead>\n",
       "    <tr style=\"text-align: right;\">\n",
       "      <th></th>\n",
       "      <th>Sales</th>\n",
       "      <th>COGS</th>\n",
       "    </tr>\n",
       "  </thead>\n",
       "  <tbody>\n",
       "    <tr>\n",
       "      <th>count</th>\n",
       "      <td>7.000000e+02</td>\n",
       "      <td>700.000000</td>\n",
       "    </tr>\n",
       "    <tr>\n",
       "      <th>mean</th>\n",
       "      <td>1.696091e+05</td>\n",
       "      <td>145475.211429</td>\n",
       "    </tr>\n",
       "    <tr>\n",
       "      <th>std</th>\n",
       "      <td>2.367263e+05</td>\n",
       "      <td>203865.506118</td>\n",
       "    </tr>\n",
       "    <tr>\n",
       "      <th>min</th>\n",
       "      <td>1.655080e+03</td>\n",
       "      <td>918.000000</td>\n",
       "    </tr>\n",
       "    <tr>\n",
       "      <th>25%</th>\n",
       "      <td>1.592800e+04</td>\n",
       "      <td>7490.000000</td>\n",
       "    </tr>\n",
       "    <tr>\n",
       "      <th>50%</th>\n",
       "      <td>3.554020e+04</td>\n",
       "      <td>22506.250000</td>\n",
       "    </tr>\n",
       "    <tr>\n",
       "      <th>75%</th>\n",
       "      <td>2.610775e+05</td>\n",
       "      <td>245607.500000</td>\n",
       "    </tr>\n",
       "    <tr>\n",
       "      <th>max</th>\n",
       "      <td>1.159200e+06</td>\n",
       "      <td>950625.000000</td>\n",
       "    </tr>\n",
       "  </tbody>\n",
       "</table>\n",
       "</div>"
      ],
      "text/plain": [
       "              Sales           COGS\n",
       "count  7.000000e+02     700.000000\n",
       "mean   1.696091e+05  145475.211429\n",
       "std    2.367263e+05  203865.506118\n",
       "min    1.655080e+03     918.000000\n",
       "25%    1.592800e+04    7490.000000\n",
       "50%    3.554020e+04   22506.250000\n",
       "75%    2.610775e+05  245607.500000\n",
       "max    1.159200e+06  950625.000000"
      ]
     },
     "execution_count": 17,
     "metadata": {},
     "output_type": "execute_result"
    }
   ],
   "source": [
    "# Use Pandas.DataFrame.describe() to generate descriptive statistics\n",
    "df[[' Sales', 'COGS']].describe()"
   ]
  },
  {
   "cell_type": "code",
   "execution_count": 18,
   "metadata": {},
   "outputs": [],
   "source": [
    "# Use Pandas.DataFrame.drop() to delete the \"Manufacturing Price\" column\n",
    "df = df.drop('Manufacturing Price', axis=1)"
   ]
  },
  {
   "cell_type": "code",
   "execution_count": 19,
   "metadata": {},
   "outputs": [],
   "source": [
    "# Use Pandas.DataFrame.drop() to delete the \"Discounts\" column\n",
    "df = df.drop('Discounts', axis=1)"
   ]
  },
  {
   "cell_type": "code",
   "execution_count": 20,
   "metadata": {},
   "outputs": [
    {
     "data": {
      "text/plain": [
       "['Country',\n",
       " 'Date',\n",
       " 'Units Sold',\n",
       " 'Sale Price',\n",
       " 'Gross Sales',\n",
       " ' Sales',\n",
       " 'COGS']"
      ]
     },
     "execution_count": 20,
     "metadata": {},
     "output_type": "execute_result"
    }
   ],
   "source": [
    "list(df)"
   ]
  },
  {
   "cell_type": "code",
   "execution_count": 21,
   "metadata": {},
   "outputs": [],
   "source": [
    "# Create a new column \"Profit\" equal \"Gross Sales\" minus \"COGS\"\n",
    "df[\"Profit\"] = df[\"Gross Sales\"] - df[\"COGS\"]"
   ]
  },
  {
   "cell_type": "code",
   "execution_count": 22,
   "metadata": {},
   "outputs": [
    {
     "data": {
      "text/html": [
       "<div>\n",
       "<style scoped>\n",
       "    .dataframe tbody tr th:only-of-type {\n",
       "        vertical-align: middle;\n",
       "    }\n",
       "\n",
       "    .dataframe tbody tr th {\n",
       "        vertical-align: top;\n",
       "    }\n",
       "\n",
       "    .dataframe thead th {\n",
       "        text-align: right;\n",
       "    }\n",
       "</style>\n",
       "<table border=\"1\" class=\"dataframe\">\n",
       "  <thead>\n",
       "    <tr style=\"text-align: right;\">\n",
       "      <th></th>\n",
       "      <th>Country</th>\n",
       "      <th>Date</th>\n",
       "      <th>Units Sold</th>\n",
       "      <th>Sale Price</th>\n",
       "      <th>Gross Sales</th>\n",
       "      <th>Sales</th>\n",
       "      <th>COGS</th>\n",
       "      <th>Profit</th>\n",
       "    </tr>\n",
       "  </thead>\n",
       "  <tbody>\n",
       "    <tr>\n",
       "      <th>0</th>\n",
       "      <td>Canada</td>\n",
       "      <td>2014-01-01</td>\n",
       "      <td>1618.5</td>\n",
       "      <td>20</td>\n",
       "      <td>32370.0</td>\n",
       "      <td>32370.0</td>\n",
       "      <td>16185.0</td>\n",
       "      <td>16185.0</td>\n",
       "    </tr>\n",
       "    <tr>\n",
       "      <th>1</th>\n",
       "      <td>Germany</td>\n",
       "      <td>2014-01-01</td>\n",
       "      <td>1321.0</td>\n",
       "      <td>20</td>\n",
       "      <td>26420.0</td>\n",
       "      <td>26420.0</td>\n",
       "      <td>13210.0</td>\n",
       "      <td>13210.0</td>\n",
       "    </tr>\n",
       "    <tr>\n",
       "      <th>2</th>\n",
       "      <td>France</td>\n",
       "      <td>2014-06-01</td>\n",
       "      <td>2178.0</td>\n",
       "      <td>15</td>\n",
       "      <td>32670.0</td>\n",
       "      <td>32670.0</td>\n",
       "      <td>21780.0</td>\n",
       "      <td>10890.0</td>\n",
       "    </tr>\n",
       "    <tr>\n",
       "      <th>3</th>\n",
       "      <td>Germany</td>\n",
       "      <td>2014-06-01</td>\n",
       "      <td>888.0</td>\n",
       "      <td>15</td>\n",
       "      <td>13320.0</td>\n",
       "      <td>13320.0</td>\n",
       "      <td>8880.0</td>\n",
       "      <td>4440.0</td>\n",
       "    </tr>\n",
       "    <tr>\n",
       "      <th>4</th>\n",
       "      <td>Mexico</td>\n",
       "      <td>2014-06-01</td>\n",
       "      <td>2470.0</td>\n",
       "      <td>15</td>\n",
       "      <td>37050.0</td>\n",
       "      <td>37050.0</td>\n",
       "      <td>24700.0</td>\n",
       "      <td>12350.0</td>\n",
       "    </tr>\n",
       "  </tbody>\n",
       "</table>\n",
       "</div>"
      ],
      "text/plain": [
       "   Country       Date  Units Sold  Sale Price  Gross Sales    Sales     COGS  \\\n",
       "0   Canada 2014-01-01      1618.5          20      32370.0  32370.0  16185.0   \n",
       "1  Germany 2014-01-01      1321.0          20      26420.0  26420.0  13210.0   \n",
       "2   France 2014-06-01      2178.0          15      32670.0  32670.0  21780.0   \n",
       "3  Germany 2014-06-01       888.0          15      13320.0  13320.0   8880.0   \n",
       "4   Mexico 2014-06-01      2470.0          15      37050.0  37050.0  24700.0   \n",
       "\n",
       "    Profit  \n",
       "0  16185.0  \n",
       "1  13210.0  \n",
       "2  10890.0  \n",
       "3   4440.0  \n",
       "4  12350.0  "
      ]
     },
     "execution_count": 22,
     "metadata": {},
     "output_type": "execute_result"
    }
   ],
   "source": [
    "df.head()"
   ]
  },
  {
   "cell_type": "code",
   "execution_count": 23,
   "metadata": {},
   "outputs": [
    {
     "name": "stdout",
     "output_type": "stream",
     "text": [
      "                                   sum           mean\n",
      "                                 Sales          Sales\n",
      "Country                                              \n",
      "Canada                    2.488765e+07  177768.963464\n",
      "France                    2.435417e+07  173958.373429\n",
      "Germany                   2.350534e+07  167895.291571\n",
      "Mexico                    2.094935e+07  149638.229357\n",
      "United States of America  2.502983e+07  178784.501179\n"
     ]
    }
   ],
   "source": [
    "# Use Panda.DataFrame.pivot_table() to create a spreadsheet-style pivot table as a DataFrame\n",
    "sales_by_country = pd.pivot_table(df, index='Country', values=' Sales',aggfunc=['sum', 'mean'])\n",
    "print(sales_by_country)"
   ]
  },
  {
   "cell_type": "code",
   "execution_count": 24,
   "metadata": {},
   "outputs": [],
   "source": [
    "# Store New Sales Report Excel\n",
    "df.to_excel(\"Modified_Sales_Report.xlsx\", index=False)"
   ]
  },
  {
   "cell_type": "code",
   "execution_count": 25,
   "metadata": {},
   "outputs": [],
   "source": [
    "df = pd.read_excel(\"Modified_Sales_Report.xlsx\")"
   ]
  },
  {
   "cell_type": "code",
   "execution_count": 26,
   "metadata": {},
   "outputs": [
    {
     "data": {
      "text/html": [
       "<div>\n",
       "<style scoped>\n",
       "    .dataframe tbody tr th:only-of-type {\n",
       "        vertical-align: middle;\n",
       "    }\n",
       "\n",
       "    .dataframe tbody tr th {\n",
       "        vertical-align: top;\n",
       "    }\n",
       "\n",
       "    .dataframe thead th {\n",
       "        text-align: right;\n",
       "    }\n",
       "</style>\n",
       "<table border=\"1\" class=\"dataframe\">\n",
       "  <thead>\n",
       "    <tr style=\"text-align: right;\">\n",
       "      <th></th>\n",
       "      <th>Country</th>\n",
       "      <th>Date</th>\n",
       "      <th>Units Sold</th>\n",
       "      <th>Sale Price</th>\n",
       "      <th>Gross Sales</th>\n",
       "      <th>Sales</th>\n",
       "      <th>COGS</th>\n",
       "      <th>Profit</th>\n",
       "    </tr>\n",
       "  </thead>\n",
       "  <tbody>\n",
       "    <tr>\n",
       "      <th>0</th>\n",
       "      <td>Canada</td>\n",
       "      <td>2014-01-01</td>\n",
       "      <td>1618.5</td>\n",
       "      <td>20</td>\n",
       "      <td>32370.0</td>\n",
       "      <td>32370.0</td>\n",
       "      <td>16185.0</td>\n",
       "      <td>16185.0</td>\n",
       "    </tr>\n",
       "    <tr>\n",
       "      <th>1</th>\n",
       "      <td>Germany</td>\n",
       "      <td>2014-01-01</td>\n",
       "      <td>1321.0</td>\n",
       "      <td>20</td>\n",
       "      <td>26420.0</td>\n",
       "      <td>26420.0</td>\n",
       "      <td>13210.0</td>\n",
       "      <td>13210.0</td>\n",
       "    </tr>\n",
       "    <tr>\n",
       "      <th>2</th>\n",
       "      <td>France</td>\n",
       "      <td>2014-06-01</td>\n",
       "      <td>2178.0</td>\n",
       "      <td>15</td>\n",
       "      <td>32670.0</td>\n",
       "      <td>32670.0</td>\n",
       "      <td>21780.0</td>\n",
       "      <td>10890.0</td>\n",
       "    </tr>\n",
       "    <tr>\n",
       "      <th>3</th>\n",
       "      <td>Germany</td>\n",
       "      <td>2014-06-01</td>\n",
       "      <td>888.0</td>\n",
       "      <td>15</td>\n",
       "      <td>13320.0</td>\n",
       "      <td>13320.0</td>\n",
       "      <td>8880.0</td>\n",
       "      <td>4440.0</td>\n",
       "    </tr>\n",
       "    <tr>\n",
       "      <th>4</th>\n",
       "      <td>Mexico</td>\n",
       "      <td>2014-06-01</td>\n",
       "      <td>2470.0</td>\n",
       "      <td>15</td>\n",
       "      <td>37050.0</td>\n",
       "      <td>37050.0</td>\n",
       "      <td>24700.0</td>\n",
       "      <td>12350.0</td>\n",
       "    </tr>\n",
       "    <tr>\n",
       "      <th>5</th>\n",
       "      <td>Germany</td>\n",
       "      <td>2014-12-01</td>\n",
       "      <td>1513.0</td>\n",
       "      <td>350</td>\n",
       "      <td>529550.0</td>\n",
       "      <td>529550.0</td>\n",
       "      <td>393380.0</td>\n",
       "      <td>136170.0</td>\n",
       "    </tr>\n",
       "    <tr>\n",
       "      <th>6</th>\n",
       "      <td>Germany</td>\n",
       "      <td>2014-03-01</td>\n",
       "      <td>921.0</td>\n",
       "      <td>15</td>\n",
       "      <td>13815.0</td>\n",
       "      <td>13815.0</td>\n",
       "      <td>9210.0</td>\n",
       "      <td>4605.0</td>\n",
       "    </tr>\n",
       "    <tr>\n",
       "      <th>7</th>\n",
       "      <td>Canada</td>\n",
       "      <td>2014-06-01</td>\n",
       "      <td>2518.0</td>\n",
       "      <td>12</td>\n",
       "      <td>30216.0</td>\n",
       "      <td>30216.0</td>\n",
       "      <td>7554.0</td>\n",
       "      <td>22662.0</td>\n",
       "    </tr>\n",
       "    <tr>\n",
       "      <th>8</th>\n",
       "      <td>France</td>\n",
       "      <td>2014-06-01</td>\n",
       "      <td>1899.0</td>\n",
       "      <td>20</td>\n",
       "      <td>37980.0</td>\n",
       "      <td>37980.0</td>\n",
       "      <td>18990.0</td>\n",
       "      <td>18990.0</td>\n",
       "    </tr>\n",
       "    <tr>\n",
       "      <th>9</th>\n",
       "      <td>Germany</td>\n",
       "      <td>2014-06-01</td>\n",
       "      <td>1545.0</td>\n",
       "      <td>12</td>\n",
       "      <td>18540.0</td>\n",
       "      <td>18540.0</td>\n",
       "      <td>4635.0</td>\n",
       "      <td>13905.0</td>\n",
       "    </tr>\n",
       "  </tbody>\n",
       "</table>\n",
       "</div>"
      ],
      "text/plain": [
       "   Country       Date  Units Sold  Sale Price  Gross Sales     Sales  \\\n",
       "0   Canada 2014-01-01      1618.5          20      32370.0   32370.0   \n",
       "1  Germany 2014-01-01      1321.0          20      26420.0   26420.0   \n",
       "2   France 2014-06-01      2178.0          15      32670.0   32670.0   \n",
       "3  Germany 2014-06-01       888.0          15      13320.0   13320.0   \n",
       "4   Mexico 2014-06-01      2470.0          15      37050.0   37050.0   \n",
       "5  Germany 2014-12-01      1513.0         350     529550.0  529550.0   \n",
       "6  Germany 2014-03-01       921.0          15      13815.0   13815.0   \n",
       "7   Canada 2014-06-01      2518.0          12      30216.0   30216.0   \n",
       "8   France 2014-06-01      1899.0          20      37980.0   37980.0   \n",
       "9  Germany 2014-06-01      1545.0          12      18540.0   18540.0   \n",
       "\n",
       "       COGS    Profit  \n",
       "0   16185.0   16185.0  \n",
       "1   13210.0   13210.0  \n",
       "2   21780.0   10890.0  \n",
       "3    8880.0    4440.0  \n",
       "4   24700.0   12350.0  \n",
       "5  393380.0  136170.0  \n",
       "6    9210.0    4605.0  \n",
       "7    7554.0   22662.0  \n",
       "8   18990.0   18990.0  \n",
       "9    4635.0   13905.0  "
      ]
     },
     "execution_count": 26,
     "metadata": {},
     "output_type": "execute_result"
    }
   ],
   "source": [
    "df.head(10)"
   ]
  },
  {
   "cell_type": "code",
   "execution_count": 27,
   "metadata": {},
   "outputs": [
    {
     "data": {
      "image/png": "[encoded data removed]",
      "text/plain": [
       "<Figure size 432x288 with 1 Axes>"
      ]
     },
     "metadata": {
      "needs_background": "light"
     },
     "output_type": "display_data"
    }
   ],
   "source": [
    "# Histogram of Countries \n",
    "df.groupby(\"Country\")[\"Profit\"].plot(kind='hist')\n",
    "plt.show();"
   ]
  },
  {
   "cell_type": "code",
   "execution_count": 28,
   "metadata": {},
   "outputs": [
    {
     "data": {
      "image/png": "[encoded data removed]",
      "text/plain": [
       "<Figure size 432x288 with 1 Axes>"
      ]
     },
     "metadata": {
      "needs_background": "light"
     },
     "output_type": "display_data"
    }
   ],
   "source": [
    "# Histogram of Sale Price \n",
    "df[[\"Sale Price\"]].plot(kind='hist',bins=[0,50,100,150,200,250,300,350],rwidth=0.8)\n",
    "plt.show();"
   ]
  },
  {
   "cell_type": "code",
   "execution_count": 29,
   "metadata": {},
   "outputs": [
    {
     "data": {
      "image/png": "[encoded data removed]",
      "text/plain": [
       "<Figure size 432x288 with 1 Axes>"
      ]
     },
     "metadata": {
      "needs_background": "light"
     },
     "output_type": "display_data"
    }
   ],
   "source": [
    "df.groupby(\"Country\")[\"Sale Price\"].size().plot(kind=\"bar\", color=\"Yellow\");"
   ]
  },
  {
   "cell_type": "code",
   "execution_count": 30,
   "metadata": {},
   "outputs": [
    {
     "data": {
      "image/png": "[encoded data removed]",
      "text/plain": [
       "<Figure size 432x288 with 1 Axes>"
      ]
     },
     "metadata": {
      "needs_background": "light"
     },
     "output_type": "display_data"
    }
   ],
   "source": [
    "df.groupby(\"Country\")[\"Profit\"].nunique().plot(kind=\"bar\");"
   ]
  },
  {
   "cell_type": "code",
   "execution_count": 31,
   "metadata": {},
   "outputs": [
    {
     "data": {
      "image/png": "[encoded data removed]",
      "text/plain": [
       "<Figure size 432x288 with 1 Axes>"
      ]
     },
     "metadata": {
      "needs_background": "light"
     },
     "output_type": "display_data"
    }
   ],
   "source": [
    "df.groupby(\"Country\")[\"Gross Sales\"].nunique().plot(kind=\"bar\", color=\"red\");"
   ]
  },
  {
   "cell_type": "code",
   "execution_count": 32,
   "metadata": {},
   "outputs": [],
   "source": [
    "# Store Modified_Sales_report Excel Sheet\n",
    "df.to_excel(\"Modified_Sales_Report.xlsx\")"
   ]
  },
  {
   "cell_type": "code",
   "execution_count": null,
   "metadata": {},
   "outputs": [],
   "source": []
  }
 ],
 "metadata": {
  "kernelspec": {
   "display_name": "Python 3",
   "language": "python",
   "name": "python3"
  },
  "language_info": {
   "codemirror_mode": {
    "name": "ipython",
    "version": 3
   },
   "file_extension": ".py",
   "mimetype": "text/x-python",
   "name": "python",
   "nbconvert_exporter": "python",
   "pygments_lexer": "ipython3",
   "version": "3.8.5"
  }
 },
 "nbformat": 4,
 "nbformat_minor": 4
}
